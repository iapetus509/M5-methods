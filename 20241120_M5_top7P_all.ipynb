{
  "metadata": {
    "kernelspec": {
      "language": "python",
      "display_name": "Python 3",
      "name": "python3"
    },
    "language_info": {
      "name": "python",
      "version": "3.10.14",
      "mimetype": "text/x-python",
      "codemirror_mode": {
        "name": "ipython",
        "version": 3
      },
      "pygments_lexer": "ipython3",
      "nbconvert_exporter": "python",
      "file_extension": ".py"
    },
    "kaggle": {
      "accelerator": "nvidiaTeslaT4",
      "dataSources": [
        {
          "sourceId": 18599,
          "databundleVersionId": 1236839,
          "sourceType": "competition"
        }
      ],
      "dockerImageVersionId": 30786,
      "isInternetEnabled": true,
      "language": "python",
      "sourceType": "notebook",
      "isGpuEnabled": true
    },
    "colab": {
      "name": "20241120 M5 top7P_all",
      "provenance": [],
      "include_colab_link": true
    }
  },
  "nbformat_minor": 0,
  "nbformat": 4,
  "cells": [
    {
      "cell_type": "markdown",
      "metadata": {
        "id": "view-in-github",
        "colab_type": "text"
      },
      "source": [
        "<a href=\"https://colab.research.google.com/github/iapetus509/M5-methods/blob/master/20241120_M5_top7P_all.ipynb\" target=\"_parent\"><img src=\"https://colab.research.google.com/assets/colab-badge.svg\" alt=\"Open In Colab\"/></a>"
      ]
    },
    {
      "source": [
        "# IMPORTANT: SOME KAGGLE DATA SOURCES ARE PRIVATE\n",
        "# RUN THIS CELL IN ORDER TO IMPORT YOUR KAGGLE DATA SOURCES.\n",
        "import kagglehub\n",
        "kagglehub.login()"
      ],
      "metadata": {
        "id": "vCGespR6qXOC"
      },
      "cell_type": "code",
      "outputs": [],
      "execution_count": null
    },
    {
      "source": [
        "# IMPORTANT: RUN THIS CELL IN ORDER TO IMPORT YOUR KAGGLE DATA SOURCES,\n",
        "# THEN FEEL FREE TO DELETE THIS CELL.\n",
        "# NOTE: THIS NOTEBOOK ENVIRONMENT DIFFERS FROM KAGGLE'S PYTHON\n",
        "# ENVIRONMENT SO THERE MAY BE MISSING LIBRARIES USED BY YOUR\n",
        "# NOTEBOOK.\n",
        "\n",
        "m5_forecasting_accuracy_path = kagglehub.competition_download('m5-forecasting-accuracy')\n",
        "\n",
        "print('Data source import complete.')"
      ],
      "metadata": {
        "id": "ASG5ewJOqXOH"
      },
      "cell_type": "code",
      "outputs": [],
      "execution_count": null
    },
    {
      "cell_type": "code",
      "source": [],
      "metadata": {
        "id": "insa9zOjqdjb"
      },
      "execution_count": null,
      "outputs": []
    },
    {
      "cell_type": "code",
      "source": [
        "# This Python 3 environment comes with many helpful analytics libraries installed\n",
        "# It is defined by the kaggle/python Docker image: https://github.com/kaggle/docker-python\n",
        "# For example, here's several helpful packages to load\n",
        "\n",
        "import numpy as np # linear algebra\n",
        "import pandas as pd # data processing, CSV file I/O (e.g. pd.read_csv)\n",
        "\n",
        "# Input data files are available in the read-only \"../input/\" directory\n",
        "# For example, running this (by clicking run or pressing Shift+Enter) will list all files under the input directory\n",
        "\n",
        "import os\n",
        "for dirname, _, filenames in os.walk('/kaggle/input'):\n",
        "    for filename in filenames:\n",
        "        print(os.path.join(dirname, filename))\n",
        "\n",
        "# You can write up to 20GB to the current directory (/kaggle/working/) that gets preserved as output when you create a version using \"Save & Run All\"\n",
        "# You can also write temporary files to /kaggle/temp/, but they won't be saved outside of the current session"
      ],
      "metadata": {
        "_uuid": "8f2839f25d086af736a60e9eeb907d3b93b6e0e5",
        "_cell_guid": "b1076dfc-b9ad-4769-8c92-a6c4dae69d19",
        "trusted": true,
        "execution": {
          "iopub.status.busy": "2024-11-22T05:28:28.809165Z",
          "iopub.execute_input": "2024-11-22T05:28:28.810039Z",
          "iopub.status.idle": "2024-11-22T05:28:29.135641Z",
          "shell.execute_reply.started": "2024-11-22T05:28:28.809989Z",
          "shell.execute_reply": "2024-11-22T05:28:29.134775Z"
        },
        "id": "rfKFz1UwqXOH"
      },
      "outputs": [],
      "execution_count": null
    },
    {
      "cell_type": "code",
      "source": [
        "# 참고할만한 visual적인 대회설명 및 코드¶\n",
        "# https://s-saci95.medium.com/machine-learning-for-retail-sales-forecasting-features-engineering-4edfee7c9cbc\n",
        "\n",
        "# 해당코드. TOP 7% 코드임.\n",
        "# Feature Engineering: drived parameter값인 lag값 생성\n",
        "# 아래처럼 lag 7, 28을 쓰면,  TOP 7% (390등, 0.668) 결과값이 나옴\n",
        "\n",
        "\n",
        "# 참고코드. Top 3% (170등, 0.61)\n",
        "# https://www.kaggle.com/competitions/m5-forecasting-accuracy/discussion/163154\n",
        "# https://github.com/btrotta/kaggle-m5\n",
        "# TOP 3% code is quite short (<300 lines) and uses only fairly basic features in a LightGBM model.  I didn't use any \"magic\" adjustment factors.\n",
        "# TOP 7% 처럼 3년데이터를 사용했고 (노이즈를 줄이고 계절적 추세를 포착하기 위해), 실제로 모델을 훈련시키는 데 1년의 데이터를 사용했습니다.\n",
        "# 추가로 크리스마스의 영향 때문에 훈련 기간에서 12 월을 제외함.\n",
        "# TOP 7%은 7, 28 Lag지만, TOP 3%는 7, 14, 28 lag 평균을 사용함.\n",
        "\n",
        "\n",
        "# 참고코드. Top 1 (0.51844,  Privit 0.54284)\n",
        "# https://www.kaggle.com/code/urkoallende/m5-lgbm-improving-top1-solution-p-s-0-51844\n",
        "# I've simplified the approach, using only one dataset to train all models, as well as only using a dynamic step training approach.\n",
        "# To get a private score below 0.520, you will need to change the step size before training\n",
        "# STEPS = list(np.arange(2,30,2)) - That will not train in time unless you're using GPU support or doing it locally.\n",
        "\n",
        "\n",
        "# 'tweedie'/'poisson' objectives are making better optimization.\n",
        "# https://www.kaggle.com/c/m5-forecasting-accuracy/discussion/144067#)\n",
        "# Tweedie Gradient Boosting for Extremely Unbalanced Zero-inflated Data : https://arxiv.org/pdf/1811.10192.pdf .\n",
        "# Bioprocess에서 Bioburden과 같이 Zero-Inflated data가 많아서.. 전엔 ZINB 기법을 사용했었는데, 예측모델링 기법에 \"Tweedie\" 기법을 활용할 수도 있겠음.\n",
        "\n",
        "\n",
        "# 참고코드. LSTM모델\n",
        "\n",
        "# 참고코드. Kalman filter\n",
        "\n",
        "# M5 및 time-serise 동영상.\n",
        "# https://youtu.be/pVLEo-IvlxY?si=ZbFPgVZipW7XdppD&t=5159\n"
      ],
      "metadata": {
        "trusted": true,
        "execution": {
          "iopub.status.busy": "2024-11-22T05:28:29.137188Z",
          "iopub.execute_input": "2024-11-22T05:28:29.137563Z",
          "iopub.status.idle": "2024-11-22T05:28:29.142273Z",
          "shell.execute_reply.started": "2024-11-22T05:28:29.137535Z",
          "shell.execute_reply": "2024-11-22T05:28:29.14131Z"
        },
        "id": "w33DgxoiqXOI"
      },
      "outputs": [],
      "execution_count": null
    },
    {
      "cell_type": "code",
      "source": [
        "calendar = pd.read_csv(\"/kaggle/input/m5-forecasting-accuracy/calendar.csv\")\n",
        "sales = pd.read_csv(\"/kaggle/input/m5-forecasting-accuracy/sell_prices.csv\")\n",
        "# train_validation = pd.read_csv(\"/kaggle/input/m5-forecasting-accuracy/sales_train_validation.csv\") # Public 점수를 위한거니 필요없음\n",
        "\n",
        "train_evaluation = pd.read_csv(\"/kaggle/input/m5-forecasting-accuracy/sales_train_evaluation.csv\")\n",
        "#train_evaluation = pd.read_csv(\"/kaggle/input/m5-forecasting-accuracy/sales_train_evaluation.csv\", nrows=500) #순서대로 500개\n",
        "# train_evaluation = pd.read_csv(\"/kaggle/input/m5-forecasting-accuracy/sales_train_evaluation.csv\").sample(500, random_state=42) #랜덤 500개\n",
        "\n",
        "submission = pd.read_csv(\"/kaggle/input/m5-forecasting-accuracy/sample_submission.csv\")"
      ],
      "metadata": {
        "trusted": true,
        "execution": {
          "iopub.status.busy": "2024-11-22T05:28:29.143451Z",
          "iopub.execute_input": "2024-11-22T05:28:29.144072Z",
          "iopub.status.idle": "2024-11-22T05:28:48.05455Z",
          "shell.execute_reply.started": "2024-11-22T05:28:29.144029Z",
          "shell.execute_reply": "2024-11-22T05:28:48.053792Z"
        },
        "id": "6zQ1A57nqXOJ"
      },
      "outputs": [],
      "execution_count": null
    },
    {
      "cell_type": "code",
      "source": [
        "calendar"
      ],
      "metadata": {
        "trusted": true,
        "execution": {
          "iopub.status.busy": "2024-11-22T05:28:48.055648Z",
          "iopub.execute_input": "2024-11-22T05:28:48.055929Z",
          "iopub.status.idle": "2024-11-22T05:28:48.085264Z",
          "shell.execute_reply.started": "2024-11-22T05:28:48.0559Z",
          "shell.execute_reply": "2024-11-22T05:28:48.084448Z"
        },
        "id": "-DBg2ejRqXOK"
      },
      "outputs": [],
      "execution_count": null
    },
    {
      "cell_type": "code",
      "source": [
        "sales"
      ],
      "metadata": {
        "trusted": true,
        "execution": {
          "iopub.status.busy": "2024-11-22T05:28:48.087614Z",
          "iopub.execute_input": "2024-11-22T05:28:48.087861Z",
          "iopub.status.idle": "2024-11-22T05:28:48.10707Z",
          "shell.execute_reply.started": "2024-11-22T05:28:48.087836Z",
          "shell.execute_reply": "2024-11-22T05:28:48.105929Z"
        },
        "id": "hHj5ZZsrqXOK"
      },
      "outputs": [],
      "execution_count": null
    },
    {
      "cell_type": "code",
      "source": [
        "train_evaluation"
      ],
      "metadata": {
        "trusted": true,
        "execution": {
          "iopub.status.busy": "2024-11-22T05:28:48.108026Z",
          "iopub.execute_input": "2024-11-22T05:28:48.10838Z",
          "iopub.status.idle": "2024-11-22T05:28:48.14142Z",
          "shell.execute_reply.started": "2024-11-22T05:28:48.108332Z",
          "shell.execute_reply": "2024-11-22T05:28:48.140479Z"
        },
        "id": "6XjHaKHMqXOL"
      },
      "outputs": [],
      "execution_count": null
    },
    {
      "cell_type": "code",
      "source": [
        "submission"
      ],
      "metadata": {
        "trusted": true,
        "execution": {
          "iopub.status.busy": "2024-11-22T05:28:48.142655Z",
          "iopub.execute_input": "2024-11-22T05:28:48.142981Z",
          "iopub.status.idle": "2024-11-22T05:28:48.170133Z",
          "shell.execute_reply.started": "2024-11-22T05:28:48.142944Z",
          "shell.execute_reply": "2024-11-22T05:28:48.169173Z"
        },
        "id": "vynS2FiMqXOL"
      },
      "outputs": [],
      "execution_count": null
    },
    {
      "cell_type": "code",
      "source": [
        "from sklearn.preprocessing import OrdinalEncoder\n",
        "# 달력 데이터 전처리 함수\n",
        "def prep_calendar(df):\n",
        "    # 사용하지 않는 열 제거\n",
        "    df = df.drop([\"date\", \"weekday\", \"event_type_1\", \"event_type_2\"], axis=1)\n",
        "\n",
        "    # d 열 값에서 'd_' 제거 후 정수형으로 변환\n",
        "    df = df.assign(d=df.d.str[2:].astype(int))\n",
        "\n",
        "    # 결측값이 많은 event_name 열들을 전처리\n",
        "    to_ordinal = [\"event_name_1\", \"event_name_2\"]\n",
        "    df[to_ordinal] = df[to_ordinal].fillna(\"1\")\n",
        "    df[to_ordinal] = OrdinalEncoder(dtype=\"int\").fit_transform(df[to_ordinal]) + 1\n",
        "\n",
        "    # 메모리 절약을 위해 int8로 변환\n",
        "    to_int8 = [\"wday\", \"month\", \"snap_CA\", \"snap_TX\", \"snap_WI\"] + to_ordinal\n",
        "    df[to_int8] = df[to_int8].astype(\"int8\")\n",
        "\n",
        "    return df\n",
        "calendar = prep_calendar(calendar)\n",
        "calendar"
      ],
      "metadata": {
        "trusted": true,
        "execution": {
          "iopub.status.busy": "2024-11-22T05:28:48.171197Z",
          "iopub.execute_input": "2024-11-22T05:28:48.171507Z",
          "iopub.status.idle": "2024-11-22T05:28:48.596785Z",
          "shell.execute_reply.started": "2024-11-22T05:28:48.171479Z",
          "shell.execute_reply": "2024-11-22T05:28:48.595905Z"
        },
        "id": "2I7Q_jMfqXOM"
      },
      "outputs": [],
      "execution_count": null
    },
    {
      "cell_type": "code",
      "source": [
        "# # 데이터 전처리 함수  (아래에 한줄 한줄 debugging 진행)\n",
        "# def prep_data(df, drop_d):\n",
        "#     # 초기 수요 기록을 제거해 분석 기간을 현재 시점과 가깝게 유지\n",
        "#     df = df.drop([\"d_\" + str(i+1) for i in range(drop_d)], axis=1)\n",
        "#     df = df.assign(id=df.id.str.replace(\"_evaluation\", \"\"))\n",
        "\n",
        "#     # 예측할 기간을 위한 열 추가\n",
        "#     df = df.reindex(columns=df.columns.tolist() + [\"d_\" + str(FIRST + i) for i in range(LENGTH)])\n",
        "\n",
        "#     # 데이터를 long 형식으로 변환 (일자별 수요로 변환)\n",
        "#     df = df.melt(id_vars=[\"id\", \"item_id\", \"store_id\", \"state_id\", \"dept_id\", \"cat_id\"], var_name='d', value_name='demand')\n",
        "\n",
        "#     # 일자와 수요를 정수형으로 변환\n",
        "#     df = df.assign(d=df.d.str[2:].astype(\"int16\"),\n",
        "#                    demand=df.demand.astype(\"float32\"))\n",
        "\n",
        "#     # 수요 예측 특성 생성\n",
        "#     df = demand_features(df)\n",
        "\n",
        "#     # 결측치가 있는 행 제거\n",
        "#     df = df[df.d > (drop_d + max(LAGS) + max(WINDOWS))]\n",
        "\n",
        "#     # 달력 정보 및 판매 가격을 일자별로 결합\n",
        "#     df = df.merge(calendar, how=\"left\", on=\"d\")\n",
        "#     df = df.merge(sales, how=\"left\", on=[\"store_id\", \"item_id\", \"wm_yr_wk\"])\n",
        "#     df = df.drop([\"wm_yr_wk\"], axis=1)\n",
        "#     # 범주형 변수를 정수형으로 인코딩\n",
        "#     for v in [\"item_id\", \"store_id\", \"state_id\", \"dept_id\", \"cat_id\"]:\n",
        "#         df[v] = OrdinalEncoder(dtype=\"int\").fit_transform(df[[v]]).astype(\"int16\") + 1\n",
        "\n",
        "#     # 예측 대상인 demand와 고유값인 id, d 열은 입력 변수에서 제외\n",
        "#     x = list(set(df.columns) - {'id', 'd', 'demand'})\n",
        "\n",
        "#     # 테스트 데이터 분리\n",
        "#     test = df[df.d >= FIRST - max(LAGS) - max(WINDOWS) - LENGTH]\n",
        "#     df = df[df.d < FIRST]\n",
        "\n",
        "#     # 학습 데이터를 훈련 및 검증 세트로 분할\n",
        "#     xtrain, xvalid, ytrain, yvalid = train_test_split(df[x], df[\"demand\"], test_size=0.1, shuffle=True, random_state=42)\n",
        "#     train = lgb.Dataset(xtrain, label=ytrain)\n",
        "#     valid = lgb.Dataset(xvalid, label=yvalid)\n",
        "#     return train, valid, test, x\n",
        "# train, valid, test, x = prep_data(train_evaluation, 1000 - LENGTH)\n",
        "# test.head()"
      ],
      "metadata": {
        "trusted": true,
        "execution": {
          "iopub.status.busy": "2024-11-22T05:28:48.598291Z",
          "iopub.execute_input": "2024-11-22T05:28:48.598662Z",
          "iopub.status.idle": "2024-11-22T05:28:48.603362Z",
          "shell.execute_reply.started": "2024-11-22T05:28:48.598636Z",
          "shell.execute_reply": "2024-11-22T05:28:48.602546Z"
        },
        "id": "f7w0o6XuqXOM"
      },
      "outputs": [],
      "execution_count": null
    },
    {
      "cell_type": "code",
      "source": [
        "LAGS = [7, 28]\n",
        "WINDOWS = [7, 28]\n",
        "FIRST = 1942  # 테스트 데이터의 첫 번째 날\n",
        "LENGTH = 28  # 테스트 기간\n",
        "# 시계열 특성(수요 예측을 위한 lag 및 rolling mean)을 생성하는 함수\n",
        "def demand_features(df):\n",
        "    for lag in LAGS:\n",
        "        # 과거 수요를 lag만큼 지연하여 생성\n",
        "        df[f'lag_t{lag}'] = df.groupby('id')['demand'].transform(lambda x: x.shift(lag)).astype(\"float32\")\n",
        "        for w in WINDOWS:\n",
        "            # 과거 수요의 rolling mean 생성\n",
        "            df[f'rolling_mean_lag{lag}_w{w}'] = df.groupby('id')[f'lag_t{lag}'].transform(lambda x: x.rolling(w).mean()).astype(\"float32\")\n",
        "    return df\n",
        "from sklearn.model_selection import train_test_split\n"
      ],
      "metadata": {
        "trusted": true,
        "execution": {
          "iopub.status.busy": "2024-11-22T05:28:48.604238Z",
          "iopub.execute_input": "2024-11-22T05:28:48.604547Z",
          "iopub.status.idle": "2024-11-22T05:28:48.758072Z",
          "shell.execute_reply.started": "2024-11-22T05:28:48.604522Z",
          "shell.execute_reply": "2024-11-22T05:28:48.757421Z"
        },
        "id": "qvTd1Cd6qXON"
      },
      "outputs": [],
      "execution_count": null
    },
    {
      "cell_type": "code",
      "source": [
        "df = train_evaluation"
      ],
      "metadata": {
        "trusted": true,
        "execution": {
          "iopub.status.busy": "2024-11-22T05:28:48.758929Z",
          "iopub.execute_input": "2024-11-22T05:28:48.759146Z",
          "iopub.status.idle": "2024-11-22T05:28:48.763034Z",
          "shell.execute_reply.started": "2024-11-22T05:28:48.759124Z",
          "shell.execute_reply": "2024-11-22T05:28:48.76219Z"
        },
        "id": "lKth0YO-qXON"
      },
      "outputs": [],
      "execution_count": null
    },
    {
      "cell_type": "code",
      "source": [
        "# 약 5년의 데이터 중 최근 1000일 (3년) 정도만 모델에 사용. 오래된것은 안맞으니깐..\n",
        "\n",
        "drop_d = 1000 - LENGTH\n",
        "df = df.drop([\"d_\" + str(i+1) for i in range(drop_d)], axis=1)\n",
        "df"
      ],
      "metadata": {
        "trusted": true,
        "execution": {
          "iopub.status.busy": "2024-11-22T05:28:48.764111Z",
          "iopub.execute_input": "2024-11-22T05:28:48.76444Z",
          "iopub.status.idle": "2024-11-22T05:28:48.868466Z",
          "shell.execute_reply.started": "2024-11-22T05:28:48.764386Z",
          "shell.execute_reply": "2024-11-22T05:28:48.867564Z"
        },
        "id": "fSgvohoVqXON"
      },
      "outputs": [],
      "execution_count": null
    },
    {
      "cell_type": "code",
      "source": [
        "# id 에서 쓸모 없었던 _evaluation 삭제진행\n",
        "df = df.assign(id=df.id.str.replace(\"_evaluation\", \"\"))\n",
        "df"
      ],
      "metadata": {
        "trusted": true,
        "execution": {
          "iopub.status.busy": "2024-11-22T05:28:48.869962Z",
          "iopub.execute_input": "2024-11-22T05:28:48.870217Z",
          "iopub.status.idle": "2024-11-22T05:28:48.99753Z",
          "shell.execute_reply.started": "2024-11-22T05:28:48.870192Z",
          "shell.execute_reply": "2024-11-22T05:28:48.996472Z"
        },
        "id": "SpCOvSTzqXON"
      },
      "outputs": [],
      "execution_count": null
    },
    {
      "cell_type": "code",
      "source": [
        "# 예측할 기간을 위한 열 추가  (d_1941 이후 28일인 d_1969 생성)\n",
        "df = df.reindex(columns=df.columns.tolist() + [\"d_\" + str(FIRST + i) for i in range(LENGTH)])\n",
        "df"
      ],
      "metadata": {
        "trusted": true,
        "execution": {
          "iopub.status.busy": "2024-11-22T05:28:49.001212Z",
          "iopub.execute_input": "2024-11-22T05:28:49.00164Z",
          "iopub.status.idle": "2024-11-22T05:28:49.111703Z",
          "shell.execute_reply.started": "2024-11-22T05:28:49.001606Z",
          "shell.execute_reply": "2024-11-22T05:28:49.110717Z"
        },
        "id": "smTNP6RjqXON"
      },
      "outputs": [],
      "execution_count": null
    },
    {
      "cell_type": "code",
      "source": [
        "df.dtypes"
      ],
      "metadata": {
        "trusted": true,
        "execution": {
          "iopub.status.busy": "2024-11-22T05:28:49.112927Z",
          "iopub.execute_input": "2024-11-22T05:28:49.113314Z",
          "iopub.status.idle": "2024-11-22T05:28:49.12055Z",
          "shell.execute_reply.started": "2024-11-22T05:28:49.113272Z",
          "shell.execute_reply": "2024-11-22T05:28:49.119693Z"
        },
        "id": "dAprlYI_qXOO"
      },
      "outputs": [],
      "execution_count": null
    },
    {
      "cell_type": "code",
      "source": [
        "# 데이터를 long (stack) 형식으로 변환 (일자별 수요로 변환)\n",
        "df = df.melt(id_vars=[\"id\", \"item_id\", \"store_id\", \"state_id\", \"dept_id\", \"cat_id\"], var_name='d', value_name='demand')\n",
        "df"
      ],
      "metadata": {
        "trusted": true,
        "execution": {
          "iopub.status.busy": "2024-11-22T05:28:49.121773Z",
          "iopub.execute_input": "2024-11-22T05:28:49.122631Z",
          "iopub.status.idle": "2024-11-22T05:28:55.391758Z",
          "shell.execute_reply.started": "2024-11-22T05:28:49.122588Z",
          "shell.execute_reply": "2024-11-22T05:28:55.390922Z"
        },
        "id": "o1wMzX7ZqXOO"
      },
      "outputs": [],
      "execution_count": null
    },
    {
      "cell_type": "code",
      "source": [
        "df.dtypes"
      ],
      "metadata": {
        "trusted": true,
        "execution": {
          "iopub.status.busy": "2024-11-22T05:28:55.392875Z",
          "iopub.execute_input": "2024-11-22T05:28:55.393159Z",
          "iopub.status.idle": "2024-11-22T05:28:55.399498Z",
          "shell.execute_reply.started": "2024-11-22T05:28:55.393134Z",
          "shell.execute_reply": "2024-11-22T05:28:55.398557Z"
        },
        "id": "WlBqiv7DqXOO"
      },
      "outputs": [],
      "execution_count": null
    },
    {
      "cell_type": "code",
      "source": [
        "# 일자와 수요를 정수형으로 변환\n",
        "df = df.assign(d=df.d.str[2:].astype(\"int16\"), demand=df.demand.astype(\"float32\"))\n",
        "df"
      ],
      "metadata": {
        "trusted": true,
        "execution": {
          "iopub.status.busy": "2024-11-22T05:28:55.400549Z",
          "iopub.execute_input": "2024-11-22T05:28:55.400789Z",
          "iopub.status.idle": "2024-11-22T05:29:06.438516Z",
          "shell.execute_reply.started": "2024-11-22T05:28:55.400765Z",
          "shell.execute_reply": "2024-11-22T05:29:06.437592Z"
        },
        "id": "sXkDdY6GqXOO"
      },
      "outputs": [],
      "execution_count": null
    },
    {
      "cell_type": "code",
      "source": [
        "df.dtypes"
      ],
      "metadata": {
        "trusted": true,
        "execution": {
          "iopub.status.busy": "2024-11-22T05:29:06.439703Z",
          "iopub.execute_input": "2024-11-22T05:29:06.439964Z",
          "iopub.status.idle": "2024-11-22T05:29:06.446481Z",
          "shell.execute_reply.started": "2024-11-22T05:29:06.439939Z",
          "shell.execute_reply": "2024-11-22T05:29:06.445491Z"
        },
        "id": "tyZdzqZEqXOO"
      },
      "outputs": [],
      "execution_count": null
    },
    {
      "cell_type": "code",
      "source": [
        " # 수요 예측 특성 생성  (맨위에 demand_features쪽에 lag7, lag28, lag7_mean, lag28_mean 만든것 넣기)\n",
        "df = demand_features(df)\n",
        "df"
      ],
      "metadata": {
        "trusted": true,
        "execution": {
          "iopub.status.busy": "2024-11-22T05:29:06.447564Z",
          "iopub.execute_input": "2024-11-22T05:29:06.447869Z",
          "iopub.status.idle": "2024-11-22T05:30:50.603816Z",
          "shell.execute_reply.started": "2024-11-22T05:29:06.447843Z",
          "shell.execute_reply": "2024-11-22T05:30:50.602946Z"
        },
        "id": "1qHbbg5OqXOO"
      },
      "outputs": [],
      "execution_count": null
    },
    {
      "cell_type": "code",
      "source": [
        "# 결측치가 있는 행 제거\n",
        "df = df[df.d > (drop_d + max(LAGS) + max(WINDOWS))]\n",
        "df"
      ],
      "metadata": {
        "trusted": true,
        "execution": {
          "iopub.status.busy": "2024-11-22T05:30:50.605259Z",
          "iopub.execute_input": "2024-11-22T05:30:50.605695Z",
          "iopub.status.idle": "2024-11-22T05:30:53.582732Z",
          "shell.execute_reply.started": "2024-11-22T05:30:50.60565Z",
          "shell.execute_reply": "2024-11-22T05:30:53.581912Z"
        },
        "id": "sE_IEsdtqXOO"
      },
      "outputs": [],
      "execution_count": null
    },
    {
      "cell_type": "code",
      "source": [
        "# 달력 정보 및 판매 가격을 일자별로 결합\n",
        "df = df.merge(calendar, how=\"left\", on=\"d\")\n",
        "df"
      ],
      "metadata": {
        "trusted": true,
        "execution": {
          "iopub.status.busy": "2024-11-22T05:30:53.58391Z",
          "iopub.execute_input": "2024-11-22T05:30:53.584252Z",
          "iopub.status.idle": "2024-11-22T05:31:09.075479Z",
          "shell.execute_reply.started": "2024-11-22T05:30:53.584215Z",
          "shell.execute_reply": "2024-11-22T05:31:09.074548Z"
        },
        "id": "bB5mTfN1qXOP"
      },
      "outputs": [],
      "execution_count": null
    },
    {
      "cell_type": "code",
      "source": [
        "# on에 있는 값을 기준으로 Sales 에 있는 sell_price 추가\n",
        "df = df.merge(sales, how=\"left\", on=[\"store_id\", \"item_id\", \"wm_yr_wk\"])\n",
        "df"
      ],
      "metadata": {
        "trusted": true,
        "execution": {
          "iopub.status.busy": "2024-11-22T05:31:09.076509Z",
          "iopub.execute_input": "2024-11-22T05:31:09.076789Z",
          "iopub.status.idle": "2024-11-22T05:31:31.225067Z",
          "shell.execute_reply.started": "2024-11-22T05:31:09.076761Z",
          "shell.execute_reply": "2024-11-22T05:31:31.224376Z"
        },
        "id": "g8ADsEdlqXOP"
      },
      "outputs": [],
      "execution_count": null
    },
    {
      "cell_type": "code",
      "source": [
        "# 중복 변수 삭제\n",
        "df = df.drop([\"wm_yr_wk\"], axis=1)"
      ],
      "metadata": {
        "trusted": true,
        "execution": {
          "iopub.status.busy": "2024-11-22T05:31:31.225924Z",
          "iopub.execute_input": "2024-11-22T05:31:31.226154Z",
          "iopub.status.idle": "2024-11-22T05:31:33.607107Z",
          "shell.execute_reply.started": "2024-11-22T05:31:31.226132Z",
          "shell.execute_reply": "2024-11-22T05:31:33.606127Z"
        },
        "id": "FS4V7GvAqXOP"
      },
      "outputs": [],
      "execution_count": null
    },
    {
      "cell_type": "code",
      "source": [
        "# 범주형 변수를 정수형으로 인코딩\n",
        "for v in [\"item_id\", \"store_id\", \"state_id\", \"dept_id\", \"cat_id\"]:\n",
        "    df[v] = OrdinalEncoder(dtype=\"int\").fit_transform(df[[v]]).astype(\"int16\") + 1"
      ],
      "metadata": {
        "trusted": true,
        "execution": {
          "iopub.status.busy": "2024-11-22T05:31:33.60838Z",
          "iopub.execute_input": "2024-11-22T05:31:33.609084Z",
          "iopub.status.idle": "2024-11-22T05:32:01.683135Z",
          "shell.execute_reply.started": "2024-11-22T05:31:33.609039Z",
          "shell.execute_reply": "2024-11-22T05:32:01.68237Z"
        },
        "id": "OJL7gtKbqXOP"
      },
      "outputs": [],
      "execution_count": null
    },
    {
      "cell_type": "code",
      "source": [
        "# 예측 대상인 demand와 고유값인 id, d 열은 입력 변수에서 제외\n",
        "x = list(set(df.columns) - {'id', 'd', 'demand'})"
      ],
      "metadata": {
        "trusted": true,
        "execution": {
          "iopub.status.busy": "2024-11-22T05:32:01.684126Z",
          "iopub.execute_input": "2024-11-22T05:32:01.684429Z",
          "iopub.status.idle": "2024-11-22T05:32:01.688678Z",
          "shell.execute_reply.started": "2024-11-22T05:32:01.684379Z",
          "shell.execute_reply": "2024-11-22T05:32:01.687817Z"
        },
        "id": "TR3523GEqXOP"
      },
      "outputs": [],
      "execution_count": null
    },
    {
      "cell_type": "code",
      "source": [
        "# 테스트 데이터 분리\n",
        "test = df[df.d >= FIRST - max(LAGS) - max(WINDOWS) - LENGTH]\n",
        "test"
      ],
      "metadata": {
        "trusted": true,
        "execution": {
          "iopub.status.busy": "2024-11-22T05:32:01.689599Z",
          "iopub.execute_input": "2024-11-22T05:32:01.689933Z",
          "iopub.status.idle": "2024-11-22T05:32:02.551452Z",
          "shell.execute_reply.started": "2024-11-22T05:32:01.689908Z",
          "shell.execute_reply": "2024-11-22T05:32:02.550477Z"
        },
        "id": "IOXvvRljqXOP"
      },
      "outputs": [],
      "execution_count": null
    },
    {
      "cell_type": "code",
      "source": [
        "# 테스트 데이터 분리\n",
        "df = df[df.d < FIRST]\n",
        "df"
      ],
      "metadata": {
        "trusted": true,
        "execution": {
          "iopub.status.busy": "2024-11-22T05:32:02.5525Z",
          "iopub.execute_input": "2024-11-22T05:32:02.552792Z",
          "iopub.status.idle": "2024-11-22T05:32:10.567377Z",
          "shell.execute_reply.started": "2024-11-22T05:32:02.552765Z",
          "shell.execute_reply": "2024-11-22T05:32:10.566494Z"
        },
        "id": "cvT6m_jzqXOQ"
      },
      "outputs": [],
      "execution_count": null
    },
    {
      "cell_type": "code",
      "source": [
        "##### 학습\n",
        "import lightgbm as lgb"
      ],
      "metadata": {
        "trusted": true,
        "execution": {
          "iopub.status.busy": "2024-11-22T05:32:10.568667Z",
          "iopub.execute_input": "2024-11-22T05:32:10.569312Z",
          "iopub.status.idle": "2024-11-22T05:32:13.14483Z",
          "shell.execute_reply.started": "2024-11-22T05:32:10.569267Z",
          "shell.execute_reply": "2024-11-22T05:32:13.144147Z"
        },
        "id": "FYVh6DvrqXOQ"
      },
      "outputs": [],
      "execution_count": null
    },
    {
      "cell_type": "code",
      "source": [
        "# 학습 데이터를 훈련 및 검증 세트로 분할\n",
        "xtrain, xvalid, ytrain, yvalid = train_test_split(df[x], df[\"demand\"], test_size=0.1, shuffle=True, random_state=2024)\n",
        "train = lgb.Dataset(xtrain, label=ytrain)\n",
        "valid = lgb.Dataset(xvalid, label=yvalid)"
      ],
      "metadata": {
        "trusted": true,
        "execution": {
          "iopub.status.busy": "2024-11-22T05:32:13.14573Z",
          "iopub.execute_input": "2024-11-22T05:32:13.146162Z",
          "iopub.status.idle": "2024-11-22T05:32:23.452677Z",
          "shell.execute_reply.started": "2024-11-22T05:32:13.146136Z",
          "shell.execute_reply": "2024-11-22T05:32:23.451879Z"
        },
        "id": "6M64D4QzqXOQ"
      },
      "outputs": [],
      "execution_count": null
    },
    {
      "cell_type": "code",
      "source": [
        "# 학습진행\n",
        "\n",
        "def fit_model(train, valid):\n",
        "    params = {\n",
        "        'metric': 'rmse',\n",
        "        'objective': 'poisson',   # twiddle\n",
        "        'seed': 2024,\n",
        "        'force_row_wise': True,   # 순서대로\n",
        "        'learning_rate': 0.08,\n",
        "        'lambda': 0.1,\n",
        "        'num_leaves': 63,\n",
        "        'sub_row': 0.7,\n",
        "        'bagging_freq': 1,\n",
        "        'colsample_bytree': 0.7\n",
        "    }\n",
        "    fit = lgb.train(params, train, num_boost_round=2000, valid_sets=[valid])  #early stop (괜히 더 떨어질 수 있음. test set에 적합한 숫자를 넣은것일 수 있음)\n",
        "    return fit\n",
        "fit = fit_model(train, valid)"
      ],
      "metadata": {
        "trusted": true,
        "execution": {
          "iopub.status.busy": "2024-11-22T05:32:23.45371Z",
          "iopub.execute_input": "2024-11-22T05:32:23.453976Z",
          "iopub.status.idle": "2024-11-22T06:04:55.535632Z",
          "shell.execute_reply.started": "2024-11-22T05:32:23.453951Z",
          "shell.execute_reply": "2024-11-22T06:04:55.534679Z"
        },
        "id": "XIHg_J18qXOQ"
      },
      "outputs": [],
      "execution_count": null
    },
    {
      "cell_type": "code",
      "source": [
        "# 제출\n",
        "\n",
        "def demand_features_eval(df):\n",
        "    return df.groupby('id', sort=False).last().reset_index()\n",
        "\n",
        "def pred_all(fit, test, x):\n",
        "    for day in range(FIRST, FIRST + LENGTH):\n",
        "        test_day = demand_features_eval(test[(test.d <= day) & (test.d >= day - max(LAGS) - max(WINDOWS))])\n",
        "        test.loc[test.d == day, \"demand\"] = fit.predict(test_day[x])\n",
        "    return test\n",
        "\n",
        "def pred_to_csv(test, cols, file):\n",
        "    test = test.assign(id=test.id + \"_\" + np.where(test.d < FIRST, \"validation\", \"evaluation\"),\n",
        "                       F=\"F\" + (test.d - FIRST + LENGTH + 1 - LENGTH * (test.d >= FIRST)).astype(\"str\"))\n",
        "    submission = test.pivot(index=\"id\", columns=\"F\", values=\"demand\").reset_index()[cols].fillna(1)\n",
        "    submission.to_csv(file, index=False)\n",
        "\n",
        "pred = pred_all(fit, test, x)\n",
        "pred_to_csv(pred, cols=submission.columns, file=\"submission.csv\")"
      ],
      "metadata": {
        "trusted": true,
        "execution": {
          "iopub.status.busy": "2024-11-22T06:04:55.536604Z",
          "iopub.execute_input": "2024-11-22T06:04:55.536908Z",
          "iopub.status.idle": "2024-11-22T06:06:06.295186Z",
          "shell.execute_reply.started": "2024-11-22T06:04:55.536876Z",
          "shell.execute_reply": "2024-11-22T06:06:06.2942Z"
        },
        "id": "nkYO-Z6PqXOQ"
      },
      "outputs": [],
      "execution_count": null
    },
    {
      "cell_type": "code",
      "source": [
        "# 시각화 1\n",
        "\n",
        "import pandas as pd\n",
        "import numpy as np\n",
        "import matplotlib.pyplot as plt\n",
        "from sklearn.metrics import mean_squared_error, r2_score\n",
        "def analyze_validation_predictions(pred_df, item_id_to_analyze=None):\n",
        "    \"\"\"\n",
        "    validation 데이터에 대한 예측 성능을 분석하고 시각화하는 함수\n",
        "\n",
        "    Parameters:\n",
        "    pred_df: 예측이 포함된 데이터프레임\n",
        "    item_id_to_analyze: 분석할 특정 제품 ID (None인 경우 전체 데이터에 대한 성능 계산)\n",
        "    \"\"\"\n",
        "    # validation 데이터만 필터링 (FIRST 이전 데이터)\n",
        "    val_data = pred_df[pred_df.d < FIRST].copy()\n",
        "\n",
        "    # 전체 데이터에 대한 성능 지표 계산\n",
        "    y_true = val_data['demand']\n",
        "    y_pred = val_data['demand_pred']  # 예측값 열 이름이 다를 수 있음에 주의\n",
        "\n",
        "    rmse = np.sqrt(mean_squared_error(y_true, y_pred))\n",
        "    r2 = r2_score(y_true, y_pred)\n",
        "\n",
        "    print(f\"전체 Validation 데이터 성능:\")\n",
        "    print(f\"RMSE: {rmse:.4f}\")\n",
        "    print(f\"R2 Score: {r2:.4f}\")\n",
        "    if item_id_to_analyze is not None:\n",
        "    # 특정 제품에 대한 데이터 필터링\n",
        "        item_data = val_data[val_data.item_id == item_id_to_analyze]\n",
        "\n",
        "        # 특정 제품에 대한 성능 지표 계산\n",
        "        item_rmse = np.sqrt(mean_squared_error(item_data['demand'],\n",
        "                                             item_data['demand_pred']))\n",
        "        item_r2 = r2_score(item_data['demand'], item_data['demand_pred'])\n",
        "\n",
        "        print(f\"\\n제품 ID {item_id_to_analyze}에 대한 성능:\")\n",
        "        print(f\"RMSE: {item_rmse:.4f}\")\n",
        "        print(f\"R2 Score: {item_r2:.4f}\")\n",
        "\n",
        "        # 시각화\n",
        "        plt.figure(figsize=(12, 6))\n",
        "        plt.plot(item_data['d'], item_data['demand'],\n",
        "                label='Actual', color='blue', alpha=0.7)\n",
        "        plt.plot(item_data['d'], item_data['demand_pred'],\n",
        "                label='Predict', color='red', alpha=0.7)\n",
        "\n",
        "        plt.title(f'Item ID {item_id_to_analyze} - Actual and Predicted demand')\n",
        "        plt.xlabel('Date (d)')\n",
        "        plt.ylabel('Demand')\n",
        "        plt.legend()\n",
        "        plt.grid(True, alpha=0.3)\n",
        "        plt.show()\n",
        "\n",
        "# 산점도 그래프로 실제값과 예측값의 관계 시각화\n",
        "        plt.figure(figsize=(8, 8))\n",
        "        plt.scatter(item_data['demand'], item_data['demand_pred'],\n",
        "                   alpha=0.5, color='blue')\n",
        "        plt.plot([0, item_data['demand'].max()],\n",
        "                [0, item_data['demand'].max()],\n",
        "                'r--', alpha=0.8)\n",
        "        plt.title(f'Item ID {item_id_to_analyze} - Actual and Predicted demand')\n",
        "        plt.xlabel('Actual')\n",
        "        plt.ylabel('Predict')\n",
        "        plt.grid(True, alpha=0.3)\n",
        "        plt.show()\n",
        "\n",
        "# 사용 예시\n",
        "# 먼저 예측값 열을 추가합니다\n",
        "pred['demand_pred'] = pred['demand']  # 실제 예측값으로 수정 필요\n",
        "# 전체 데이터에 대한 성능 분석\n",
        "analyze_validation_predictions(pred)\n",
        "# 특정 제품(예: item_id=1)에 대한 분석과 시각화\n",
        "analyze_validation_predictions(pred, item_id_to_analyze=1)"
      ],
      "metadata": {
        "trusted": true,
        "id": "V1odtAHLqXOR"
      },
      "outputs": [],
      "execution_count": null
    },
    {
      "cell_type": "code",
      "source": [],
      "metadata": {
        "trusted": true,
        "id": "5-iZymUeqXOR"
      },
      "outputs": [],
      "execution_count": null
    },
    {
      "cell_type": "code",
      "source": [],
      "metadata": {
        "trusted": true,
        "id": "YiaO-egXqXOR"
      },
      "outputs": [],
      "execution_count": null
    },
    {
      "cell_type": "code",
      "source": [],
      "metadata": {
        "trusted": true,
        "id": "UNxDuDY2qXOR"
      },
      "outputs": [],
      "execution_count": null
    }
  ]
}